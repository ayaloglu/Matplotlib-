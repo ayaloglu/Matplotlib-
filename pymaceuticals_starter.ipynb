{
 "cells": [
  {
   "cell_type": "markdown",
   "metadata": {},
   "source": [
    "## Observations and Insights "
   ]
  },
  {
   "cell_type": "markdown",
   "metadata": {},
   "source": [
    "Capomulin and Ramicane were the most effective drugs in shrinking the tumor volume in mice tested.\n",
    "Infubinol, and Ceftamin were not as effective as capomulin and Ramicane in shrinking the tumor volume in mice tested.\n",
    "There seems to be a pozitive correlation between Mouse weight and average tumor volume\n",
    "Naftisol and Stelasyn had effects similar to placebo, making them the least effective drugs amongst the drugs that were studied in this research."
   ]
  },
  {
   "cell_type": "code",
   "execution_count": null,
   "metadata": {},
   "outputs": [],
   "source": [
    "# Dependencies and Setup\n",
    "\n",
    "import matplotlib.pyplot as plt\n",
    "import pandas as pd\n",
    "import scipy.stats as st\n",
    "from scipy.stats import linregress\n",
    "\n",
    "# Study data files\n",
    "\n",
    "mouse_metadata_path = \"Mouse_metadata.csv\"\n",
    "study_results_path = \"Study_results.csv\"\n",
    "\n",
    "# Read the mouse data and the study results\n",
    "\n",
    "mouse_metadata = pd.read_csv(mouse_metadata_path)\n",
    "study_results = pd.read_csv(study_results_path)\n",
    "\n",
    "mouse_metadata.head()\n",
    "study_results.head()"
   ]
  },
  {
   "cell_type": "code",
   "execution_count": null,
   "metadata": {},
   "outputs": [],
   "source": [
    "# Combine the data into a single dataset\n",
    "\n",
    "combined_data_df = pd.merge(mouse_metadata, study_results,\n",
    "                                 how='outer', on='Mouse ID')\n",
    "\n",
    "# Display the data table for preview\n",
    "\n",
    "combined_data_df.head()"
   ]
  },
  {
   "cell_type": "code",
   "execution_count": null,
   "metadata": {},
   "outputs": [],
   "source": [
    "# Checking the number of mice.\n",
    "\n",
    "combined_data_df[\"Mouse ID\"].nunique()\n"
   ]
  },
  {
   "cell_type": "code",
   "execution_count": null,
   "metadata": {},
   "outputs": [],
   "source": [
    "# Getting the duplicate mice by ID number that shows up for Mouse ID and Timepoint. \n",
    "# Get all the data for the duplicate mouse ID. \n",
    "\n",
    "duplicated_MouseID = combined_data_df[combined_data_df.duplicated(['Mouse ID', 'Timepoint'])]\n",
    "duplicated_MouseID"
   ]
  },
  {
   "cell_type": "code",
   "execution_count": null,
   "metadata": {},
   "outputs": [],
   "source": [
    "# Create a clean DataFrame by dropping the duplicate mouse by its ID.\n",
    "\n",
    "cleaned_data = combined_data_df.drop_duplicates(subset=['Mouse ID', 'Timepoint'], keep='last')\n",
    "cleaned_data.head()\n"
   ]
  },
  {
   "cell_type": "code",
   "execution_count": null,
   "metadata": {},
   "outputs": [],
   "source": [
    "# Checking the number of mice in the clean DataFrame\n",
    "\n",
    "cleaned_data.nunique()"
   ]
  },
  {
   "cell_type": "markdown",
   "metadata": {},
   "source": [
    "## Summary Statistics"
   ]
  },
  {
   "cell_type": "code",
   "execution_count": null,
   "metadata": {},
   "outputs": [],
   "source": [
    "# Generate a summary statistics table of mean, median, variance, standard deviation, and SEM of the tumor volume for each regimen\n",
    "\n",
    "# Use groupby and summary statistical methods to calculate the following properties of each drug regimen: \n",
    "# mean, median, variance, standard deviation, and SEM of the tumor volume. \n",
    "# Assemble the resulting series into a single summary dataframe.\n",
    "\n",
    "tumor_volume_mean = cleaned_data.groupby(\"Drug Regimen\")[\"Tumor Volume (mm3)\"].mean()\n",
    "tumor_volume_median = cleaned_data.groupby(\"Drug Regimen\")[\"Tumor Volume (mm3)\"].median()\n",
    "tumor_volume_std = cleaned_data.groupby(\"Drug Regimen\")[\"Tumor Volume (mm3)\"].std()\n",
    "tumor_volume_variance = tumor_volume_std ** 2\n",
    "tumor_volume_SEM =cleaned_data.groupby(\"Drug Regimen\")[\"Tumor Volume (mm3)\"].sem()\n",
    "\n",
    "summary_dataframe = ({\"Mean Tumor Volume\" : tumor_volume_mean,\n",
    "                       \"Meadian Tumor Volume\" : tumor_volume_median,\n",
    "                       \"Std of Tumor Volume\" : tumor_volume_std,\n",
    "                       \"Variance of Tumor Volume\" : tumor_volume_variance,\n",
    "                      \"SEM of Tumor Volume\" : tumor_volume_SEM})\n",
    "summary_dataFrame = pd.DataFrame(summary_dataframe)\n",
    "summary_dataFrame"
   ]
  },
  {
   "cell_type": "code",
   "execution_count": null,
   "metadata": {},
   "outputs": [],
   "source": [
    "# Generate a summary statistics table of mean, median, variance, standard deviation, and SEM of the tumor volume for each regimen\n",
    "\n",
    "# Using the aggregation method, produce the same summary statistics in a single line\n",
    "cleaned_data.groupby(\"Drug Regimen\").agg({\"Tumor Volume (mm3)\" : ['mean', 'median', \"std\", \"var\", \"sem\"]})\n",
    "\n"
   ]
  },
  {
   "cell_type": "markdown",
   "metadata": {},
   "source": [
    "## Bar and Pie Charts"
   ]
  },
  {
   "cell_type": "code",
   "execution_count": null,
   "metadata": {},
   "outputs": [],
   "source": [
    "# Generate a bar plot showing the total number of timepoints for all mice tested for each drug regimen using Pandas.\n",
    "\n",
    "total_timepoints = cleaned_data.groupby(\"Drug Regimen\")[\"Timepoint\"].count()\n",
    "total_timepoints = pd.DataFrame(total_timepoints)\n",
    "total_timepoints\n",
    "\n"
   ]
  },
  {
   "cell_type": "code",
   "execution_count": null,
   "metadata": {},
   "outputs": [],
   "source": [
    "total_timepoints.plot.bar(color='r', alpha=0.3, align=\"center\", legend=False)\n",
    "plt.title(\"Total Number of Timepoints Tested Per Drug Regime \")\n",
    "plt.xlabel(\"Drug Regimen\")\n",
    "plt.ylabel(\"Total number of Timepoints\")\n",
    "plt.xlim(-0.5, len(total_timepoints.index)-0.5)\n",
    "plt.ylim(0, max(total_timepoints[\"Timepoint\"])+5)\n",
    "plt.show()\n"
   ]
  },
  {
   "cell_type": "code",
   "execution_count": null,
   "metadata": {},
   "outputs": [],
   "source": [
    "# Generate a bar plot showing the total number of timepoints for all mice tested for each drug regimen using pyplot.\n",
    "plt.bar(total_timepoints.index, total_timepoints[\"Timepoint\"], color='r', alpha=0.3, align=\"center\", width=0.5)\n",
    "plt.title(\"Total Number of Timepoints Tested Per Drug Regime \")\n",
    "plt.xlabel(\"Drug Regimen\")\n",
    "plt.ylabel(\"Total number of Timepoints\")\n",
    "plt.xticks(total_timepoints.index,rotation=\"vertical\")\n",
    "\n",
    "plt.show()\n",
    "\n"
   ]
  },
  {
   "cell_type": "code",
   "execution_count": null,
   "metadata": {},
   "outputs": [],
   "source": [
    "# Generate a pie plot showing the distribution of female versus male mice using Pandas\n",
    "\n",
    "cleaned_data[\"Sex\"].value_counts().plot.pie(autopct=\"%1.1f%%\")\n",
    "plt.show()\n",
    "\n"
   ]
  },
  {
   "cell_type": "code",
   "execution_count": null,
   "metadata": {},
   "outputs": [],
   "source": [
    "cleaned_data[\"Sex\"].value_counts()"
   ]
  },
  {
   "cell_type": "code",
   "execution_count": null,
   "metadata": {},
   "outputs": [],
   "source": [
    "# Generate a pie plot showing the distribution of female versus male mice using pyplot\n",
    "\n",
    "#Labels for the sections of our pie chart\n",
    "labels = [\"Female\", \"Male\"]\n",
    "\n",
    "# The values of each section of the pie chart\n",
    "sizes = [930, 958]\n",
    "\n",
    "# The colors of each section of the pie chart\n",
    "colors = [\"orange\", \"blue\"]\n",
    "\n",
    "# Tells matplotlib not to separate any part of the pie\n",
    "explode = (0, 0)\n",
    "\n",
    "#\n",
    "plt.pie(sizes, explode=explode, labels=labels, colors=colors, startangle=180, autopct=\"%1.1f%%\")\n",
    "\n",
    "plt.show()"
   ]
  },
  {
   "cell_type": "markdown",
   "metadata": {},
   "source": [
    "## Quartiles, Outliers and Boxplots"
   ]
  },
  {
   "cell_type": "code",
   "execution_count": null,
   "metadata": {},
   "outputs": [],
   "source": [
    "# Calculate the final tumor volume of each mouse across four of the treatment regimens:  \n",
    "# Capomulin, Ramicane, Infubinol, and Ceftamin\n",
    "\n",
    "\n",
    "\n",
    "drug_regimen= [\"Capomulin\", \"Ramicane\", \"Infubinol\", \"Ceftamin\"]\n",
    "\n",
    "data = {}\n",
    "for drug in drug_regimen:\n",
    "    \n",
    "    #Find the mouse ID and timepoint columns per drug used\n",
    "    drug_data=cleaned_data.loc[cleaned_data[\"Drug Regimen\"] == drug, [\"Mouse ID\", \"Timepoint\"]]\n",
    "    \n",
    "    #Group data by mouse ID, and find the max value of timepoint\n",
    "    drug_data = drug_data.groupby(\"Mouse ID\").max()\n",
    "    \n",
    "    #Change mouse ID from index back to a column \n",
    "    drug_data.reset_index()\n",
    "    \n",
    "    # Merge the new drug_data df with the original on Mouse ID and Timepoint columns to figure out the Tumor Volume for a particular row\n",
    "    drug_data = pd.merge(cleaned_data, drug_data, how='inner', on=['Mouse ID','Timepoint'])\n",
    "    \n",
    "    #Use mouse ID and Tumor volume columns from the merged drug_data df and add to the dictionary data, using the drug as key.\n",
    "    data[drug]=drug_data[[\"Mouse ID\",\"Tumor Volume (mm3)\"]]"
   ]
  },
  {
   "cell_type": "code",
   "execution_count": null,
   "metadata": {},
   "outputs": [],
   "source": [
    "\n",
    "\n",
    "# Calculate the IQR and quantitatively determine if there are any potential outliers. \n",
    "\n",
    "for drug in data:\n",
    "\n",
    "    quartiles = data[drug][\"Tumor Volume (mm3)\"].quantile([0.25,0.5,0.75])\n",
    "    lowerq = quartiles[0.25]\n",
    "    upperq = quartiles[0.75]\n",
    "    iqr = upperq-lowerq\n",
    "\n",
    "    print(f\"The lower quartile of {drug} data is: {lowerq:.2f}\")\n",
    "    print(f\"The upper quartile of {drug} data is: {upperq:.2f}\")\n",
    "    print(f\"The interquartile range of {drug} data is: {iqr:.2f}\")\n",
    "    print(f\"The the median of {drug} data is: {quartiles[0.5]:.2f} \")\n",
    "    print(\"----------------------------\")\n",
    "\n",
    "    lower_bound = lowerq - (1.5*iqr)\n",
    "    upper_bound = upperq + (1.5*iqr)\n",
    "    print(f\"Values below {lower_bound:.2f} could be outliers.\")\n",
    "    print(f\"Values above {upper_bound:.2f} could be outliers.\")\n",
    "    print(\"=============================\")\n",
    "\n",
    "    \n",
    "    "
   ]
  },
  {
   "cell_type": "code",
   "execution_count": null,
   "metadata": {},
   "outputs": [],
   "source": [
    "# Generate a box plot of the final tumor volume of each mouse across four regimens of interest\n",
    "data_1 = [data[drug]['Tumor Volume (mm3)'] for drug in data]\n",
    "#for drug in data:\n",
    "fig1, ax1 = plt.subplots()\n",
    "ax1.set_title('Drug Regimen')\n",
    "ax1.set_ylabel('Tumor Volume (mm3)')\n",
    "ax1.boxplot(data_1)\n",
    "ax1.set_xticklabels(drug_regimen)\n",
    "plt.show()"
   ]
  },
  {
   "cell_type": "markdown",
   "metadata": {},
   "source": [
    "## Line and Scatter Plots"
   ]
  },
  {
   "cell_type": "code",
   "execution_count": null,
   "metadata": {},
   "outputs": [],
   "source": [
    "# Generate a line plot of tumor volume vs. time point for a mouse treated with Capomulin\n",
    "\n",
    "# Group the data by Drug regime, Mouse ID and Timepoint,so that I will have timepoint as index when I choose capomulin and mouse for that drug \n",
    "x=cleaned_data.groupby([\"Drug Regimen\", \"Mouse ID\", \"Timepoint\"]).max()\n",
    "capomulin_data=x.loc[\"Capomulin\", \"b128\"]\n",
    "capomulin_data\n",
    "\n",
    "\n",
    "capomulin_data.plot.line(y=\"Tumor Volume (mm3)\", legend=False)\n",
    "plt.ylabel(\"Tumor Volume\")\n",
    "plt.title(\"Tumor Volume of Mouse 'b128' at different Timepoints\")\n",
    "plt.show()"
   ]
  },
  {
   "cell_type": "code",
   "execution_count": null,
   "metadata": {},
   "outputs": [],
   "source": [
    "# Generate a scatter plot of average tumor volume vs. mouse weight for the Capomulin regimen\n",
    "# Group the data by Drug regimen and Mouse ID\n",
    "x=cleaned_data.groupby([\"Drug Regimen\", \"Mouse ID\"]).mean()\n",
    "\n",
    "# Get data that belongs to Capomulin treatment only\n",
    "capomulin_data=x.loc[\"Capomulin\"]\n",
    "capomulin_data\n",
    "\n",
    "# Make a scatter plot with Weight on X axis and Tumor Volume on Y axis\n",
    "capomulin_data.plot.scatter(x=\"Weight (g)\", y=\"Tumor Volume (mm3)\", title=\"Average Tumor Volume (mm3)\")\n",
    "plt.show()\n"
   ]
  },
  {
   "cell_type": "markdown",
   "metadata": {},
   "source": [
    "## Correlation and Regression"
   ]
  },
  {
   "cell_type": "code",
   "execution_count": null,
   "metadata": {},
   "outputs": [],
   "source": [
    "# Calculate the linear regression model \n",
    "# for mouse weight and average tumor volume for the Capomulin regimen\n",
    "x_data = capomulin_data[\"Weight (g)\"]\n",
    "y_data = capomulin_data[\"Tumor Volume (mm3)\"]\n",
    "plt.xlabel('Mouse Weight (g)')\n",
    "plt.ylabel('Mean Tumor Volume (mm3)')\n",
    "(slope, intercept, rvalue, pvalue, stderr) = linregress(x_data, y_data)\n",
    "regress_values = x_data * slope + intercept\n",
    "line_eq = \"y = \" + str(round(slope,2)) + \"x + \" + str(round(intercept,2))\n",
    "plt.scatter(x_data,y_data)\n",
    "plt.plot(x_data,regress_values,\"r-\")\n",
    "plt.annotate(line_eq,(15,44),fontsize=15,color=\"blue\")\n",
    "print(f\"The r-squared is: {rvalue**2}\")\n",
    "\n",
    "plt.show()"
   ]
  },
  {
   "cell_type": "code",
   "execution_count": null,
   "metadata": {},
   "outputs": [],
   "source": [
    "#Calculate the correlation coefficient\n",
    "\n",
    "correlation = st.pearsonr(x_data,y_data)\n",
    "print(f\"The correlation between Mouse weight and average Tumor Volume is {round(correlation[0],2)}\")\n",
    "\n"
   ]
  }
 ],
 "metadata": {
  "anaconda-cloud": {},
  "kernelspec": {
   "display_name": "Python 3",
   "language": "python",
   "name": "python3"
  },
  "language_info": {
   "codemirror_mode": {
    "name": "ipython",
    "version": 3
   },
   "file_extension": ".py",
   "mimetype": "text/x-python",
   "name": "python",
   "nbconvert_exporter": "python",
   "pygments_lexer": "ipython3",
   "version": "3.8.8"
  }
 },
 "nbformat": 4,
 "nbformat_minor": 4
}
